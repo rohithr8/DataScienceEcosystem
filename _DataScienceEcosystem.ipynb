{
 "cells": [
  {
   "cell_type": "markdown",
   "id": "ba779539-7b29-462c-b991-1f8e2150ac42",
   "metadata": {},
   "source": [
    "# Data Science Tools and Ecosystem"
   ]
  },
  {
   "cell_type": "markdown",
   "id": "172c957e-3c7c-4bff-bb10-6fcb332e6894",
   "metadata": {},
   "source": [
    "## In this notebook, Data Science Tools and Ecosystem are summarized.\n"
   ]
  },
  {
   "cell_type": "markdown",
   "id": "c5f95a8e-1970-4e70-bef9-086697b56e4a",
   "metadata": {},
   "source": [
    "### Some of the popular languages that Data Scientists use are:"
   ]
  },
  {
   "cell_type": "markdown",
   "id": "baa74386-733e-4247-b3be-378291cee3d2",
   "metadata": {},
   "source": [
    "1. Python\n",
    "2. R\n",
    "3. sql"
   ]
  },
  {
   "cell_type": "markdown",
   "id": "6b3fb412-9c58-4bd0-9c12-eefc6bb2bffe",
   "metadata": {},
   "source": [
    "### Some of the commonly used libraries used by Data Scientists include:"
   ]
  },
  {
   "cell_type": "markdown",
   "id": "44ef9c77-0998-40f4-bdc3-ca6f57736679",
   "metadata": {},
   "source": [
    "1. numpy\n",
    "2. pandas\n",
    "3. matplotlib\n",
    "4. seaborn"
   ]
  },
  {
   "cell_type": "markdown",
   "id": "e84f3972-2912-4338-81e1-01163e1a1f47",
   "metadata": {
    "jp-MarkdownHeadingCollapsed": true
   },
   "source": [
    "| **Data Science Tools**         |\n",
    "|-------------------------------|\n",
    "| Jupyter Notebook              |\n",
    "| RStudio                       |\n",
    "| Visual Studio Code (VS Code) |\n"
   ]
  },
  {
   "cell_type": "markdown",
   "id": "938fda9f-29f4-41a2-ad09-b82074df4104",
   "metadata": {},
   "source": [
    "### Below are a few examples of evaluating arithmetic expressions in Python"
   ]
  },
  {
   "cell_type": "code",
   "execution_count": 2,
   "id": "a6065580-6066-4a3b-9bb4-a365ed8cd007",
   "metadata": {},
   "outputs": [
    {
     "data": {
      "text/plain": [
       "17"
      ]
     },
     "execution_count": 2,
     "metadata": {},
     "output_type": "execute_result"
    }
   ],
   "source": [
    "# This is a simple arithmetic expression to multiply then add integers\n",
    "(3 * 4) + 5"
   ]
  },
  {
   "cell_type": "code",
   "execution_count": 3,
   "id": "09726d21-a209-4bfe-b802-5f1e53c2efe7",
   "metadata": {},
   "outputs": [
    {
     "data": {
      "text/plain": [
       "3.3333333333333335"
      ]
     },
     "execution_count": 3,
     "metadata": {},
     "output_type": "execute_result"
    }
   ],
   "source": [
    "# This will convert 200 minutes to hours by diving by 60\n",
    "200 / 60"
   ]
  },
  {
   "cell_type": "markdown",
   "id": "4705abe2-5099-4256-8fa6-c2b80b8ec8de",
   "metadata": {},
   "source": [
    "**Objectives:**\n",
    "\n",
    "- List popular languages for Data Science  \n",
    "- Identify commonly used libraries for Data Science  \n",
    "- Describe open-source development environments for Data Science  \n",
    "- Create and format tables using Markdown  \n",
    "- Write and evaluate simple Python expressions in code cells\n"
   ]
  },
  {
   "cell_type": "markdown",
   "id": "07b49892-8979-4f40-912a-4d6eca69e11a",
   "metadata": {},
   "source": [
    "## Author  \n",
    "Rohith Ramesh"
   ]
  },
  {
   "cell_type": "code",
   "execution_count": null,
   "id": "78a2fbd6-7b56-4696-9f42-871eb4eb3ef9",
   "metadata": {},
   "outputs": [],
   "source": []
  }
 ],
 "metadata": {
  "kernelspec": {
   "display_name": "Python 3 (ipykernel)",
   "language": "python",
   "name": "python3"
  },
  "language_info": {
   "codemirror_mode": {
    "name": "ipython",
    "version": 3
   },
   "file_extension": ".py",
   "mimetype": "text/x-python",
   "name": "python",
   "nbconvert_exporter": "python",
   "pygments_lexer": "ipython3",
   "version": "3.12.8"
  }
 },
 "nbformat": 4,
 "nbformat_minor": 5
}
